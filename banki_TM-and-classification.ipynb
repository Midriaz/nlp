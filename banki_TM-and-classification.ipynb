{
 "cells": [
  {
   "cell_type": "code",
   "execution_count": 1,
   "metadata": {},
   "outputs": [],
   "source": [
    "import json\n",
    "\n",
    "import bz2\n",
    "import regex\n",
    "from tqdm import tqdm\n",
    "from scipy import sparse\n",
    "\n",
    "from pylab import rcParams\n",
    "rcParams['figure.figsize'] = 15, 10\n",
    "\n",
    "import pymorphy2\n",
    "morph = pymorphy2.MorphAnalyzer()\n",
    "\n",
    "import pickle"
   ]
  },
  {
   "cell_type": "code",
   "execution_count": 2,
   "metadata": {},
   "outputs": [
    {
     "name": "stdout",
     "output_type": "stream",
     "text": [
      "Populating the interactive namespace from numpy and matplotlib\n"
     ]
    }
   ],
   "source": [
    "import pandas as pd\n",
    "import numpy as np\n",
    "import nltk\n",
    "import matplotlib.pyplot as plt\n",
    "import seaborn as sns\n",
    "%matplotlib inline\n",
    "%pylab inline"
   ]
  },
  {
   "cell_type": "code",
   "execution_count": 3,
   "metadata": {
    "scrolled": true
   },
   "outputs": [
    {
     "name": "stderr",
     "output_type": "stream",
     "text": [
      "201030it [01:26, 2332.79it/s]\n"
     ]
    }
   ],
   "source": [
    "responses = []\n",
    "with bz2.BZ2File('banki_responses.json.bz2', 'r') as thefile:\n",
    "    for row in tqdm(thefile):\n",
    "        resp = json.loads(row)\n",
    "        if not resp['rating_not_checked'] and (len(resp['text'].split()) > 0):\n",
    "            responses.append(resp)"
   ]
  },
  {
   "cell_type": "markdown",
   "metadata": {},
   "source": [
    "#  Домашнее задание по NLP # 1 [100 баллов]\n",
    "## Классификация по тональности \n",
    "\n",
    "В этом домашнем задании вам предстоит классифицировать по тональности отзывы на банки с сайта banki.ru.\n",
    "\n",
    "Данные содержат непосредственно тексты отзывов, некоторую дополнительную информацию, а также оценку по шкале от 1 до 5. \n",
    "\n",
    "Тексты хранятся в json-ах в массиве responses.\n",
    "\n",
    "Посмотрим на пример отзыва:"
   ]
  },
  {
   "cell_type": "code",
   "execution_count": 4,
   "metadata": {},
   "outputs": [
    {
     "data": {
      "text/plain": [
       "{'city': 'г. Саратов',\n",
       " 'rating_not_checked': False,\n",
       " 'title': 'Карта ко вкладу',\n",
       " 'num_comments': 0,\n",
       " 'bank_license': 'лицензия № 880',\n",
       " 'author': 'ronnichka',\n",
       " 'bank_name': 'Югра',\n",
       " 'datetime': '2015-06-03 20:56:57',\n",
       " 'text': 'Здравствуйте! Хотела написать, что мне месяц не выдают карту ко вкладу, ссылаясь на \"нам же их из Самары везут\" (на секундочку 5 часов езды от нашего города). Но! Прочитала, что людям 3,5 месяцев не выдают карту, и поняла, что у меня все хорошо, пока что. И подарок мне дали, и кулер в отделении есть. Так что я, конечно, готова ждать. Правда хотелось бы не очень долго.',\n",
       " 'rating_grade': 3}"
      ]
     },
     "execution_count": 4,
     "metadata": {},
     "output_type": "execute_result"
    }
   ],
   "source": [
    "responses[99]"
   ]
  },
  {
   "cell_type": "markdown",
   "metadata": {},
   "source": [
    "## Часть 1. Анализ текстов [40/100]\n",
    "\n",
    "1. Посчитайте количество отзывов в разных городах и на разные банки\n",
    "2. Постройте гистограмы длин слов в символах и в словах\n",
    "3. Найдите 10 самых частых:\n",
    "    * слов\n",
    "    * слов без стоп-слов\n",
    "    * лемм \n",
    "* существительных\n",
    "4. Постройте кривые Ципфа и Хипса\n",
    "5. Ответьте на следующие вопросы:\n",
    "    * какое слово встречается чаще, \"сотрудник\" или \"клиент\"?\n",
    "    * сколько раз встречается слова \"мошенничество\" и \"доверие\"?\n",
    "6. В поле \"rating_grade\" записана оценка отзыва по шкале от 1 до 5. Используйте меру $tf-idf$, для того, чтобы найти ключевые слова и биграмы для положительных отзывов (с оценкой 5) и отрицательных отзывов (с оценкой 1)"
   ]
  },
  {
   "cell_type": "markdown",
   "metadata": {},
   "source": [
    "## 1"
   ]
  },
  {
   "cell_type": "code",
   "execution_count": 5,
   "metadata": {},
   "outputs": [],
   "source": [
    "cities = {}\n",
    "for response in responses:\n",
    "    if response['city'] in cities:\n",
    "        cities[response['city']] += 1\n",
    "    else:\n",
    "        cities[response['city']] = 0"
   ]
  },
  {
   "cell_type": "code",
   "execution_count": 6,
   "metadata": {},
   "outputs": [],
   "source": [
    "banks = {}\n",
    "for response in responses:\n",
    "    if response['bank_name'] in banks:\n",
    "        banks[response['bank_name']] += 1\n",
    "    else:\n",
    "        banks[response['bank_name']] = 0"
   ]
  },
  {
   "cell_type": "markdown",
   "metadata": {},
   "source": [
    "## 2"
   ]
  },
  {
   "cell_type": "code",
   "execution_count": 7,
   "metadata": {},
   "outputs": [],
   "source": [
    "lens = {}\n",
    "for response in responses:\n",
    "    if len(response['text']) in lens:\n",
    "        lens[len(response['text'])] += 1\n",
    "    else:\n",
    "        lens[len(response['text'])] = 0"
   ]
  },
  {
   "cell_type": "code",
   "execution_count": 8,
   "metadata": {},
   "outputs": [
    {
     "data": {
      "text/plain": [
       "(0, 5000)"
      ]
     },
     "execution_count": 8,
     "metadata": {},
     "output_type": "execute_result"
    },
    {
     "data": {
      "image/png": "[encoded data removed]",
      "text/plain": [
       "<Figure size 432x288 with 1 Axes>"
      ]
     },
     "metadata": {
      "needs_background": "light"
     },
     "output_type": "display_data"
    }
   ],
   "source": [
    "plt.bar(lens.keys(), lens.values(), width=1)\n",
    "plt.title('Длина отзывов в символах')\n",
    "plt.xlim(0,5000)"
   ]
  },
  {
   "cell_type": "code",
   "execution_count": 9,
   "metadata": {},
   "outputs": [
    {
     "name": "stderr",
     "output_type": "stream",
     "text": [
      "[nltk_data] Downloading package punkt to\n",
      "[nltk_data]     D:\\Users\\melts\\AppData\\Roaming\\nltk_data...\n",
      "[nltk_data]   Package punkt is already up-to-date!\n"
     ]
    },
    {
     "data": {
      "text/plain": [
       "True"
      ]
     },
     "execution_count": 9,
     "metadata": {},
     "output_type": "execute_result"
    }
   ],
   "source": [
    "from nltk.corpus import stopwords \n",
    "from nltk.tokenize import word_tokenize \n",
    "nltk.download(\"punkt\")"
   ]
  },
  {
   "cell_type": "code",
   "execution_count": 10,
   "metadata": {},
   "outputs": [
    {
     "name": "stderr",
     "output_type": "stream",
     "text": [
      "100%|█████████████████████████████████████████████████████████████████████████| 153499/153499 [06:12<00:00, 411.79it/s]\n"
     ]
    }
   ],
   "source": [
    "for response in tqdm(responses):\n",
    "    response['text'] = word_tokenize(response['text'])\n",
    "    response['text'] = [word for word in response['text'] if word.isalnum()]"
   ]
  },
  {
   "cell_type": "code",
   "execution_count": 11,
   "metadata": {},
   "outputs": [
    {
     "name": "stderr",
     "output_type": "stream",
     "text": [
      "100%|█████████████████████████████████████████████████████████████████████| 153499/153499 [00:00<00:00, 1211876.43it/s]\n"
     ]
    }
   ],
   "source": [
    "lens = {}\n",
    "for response in tqdm(responses):\n",
    "    if len(response['text']) in lens:\n",
    "        lens[len(response['text'])] += 1\n",
    "    else:\n",
    "        lens[len(response['text'])] = 0"
   ]
  },
  {
   "cell_type": "code",
   "execution_count": 12,
   "metadata": {},
   "outputs": [
    {
     "data": {
      "text/plain": [
       "(0, 1000)"
      ]
     },
     "execution_count": 12,
     "metadata": {},
     "output_type": "execute_result"
    },
    {
     "data": {
      "image/png": "[encoded data removed]",
      "text/plain": [
       "<Figure size 432x288 with 1 Axes>"
      ]
     },
     "metadata": {
      "needs_background": "light"
     },
     "output_type": "display_data"
    }
   ],
   "source": [
    "plt.bar(lens.keys(), lens.values(), width=1)\n",
    "plt.title('Длина отзывов в словах')\n",
    "plt.xlim(0,1000)"
   ]
  },
  {
   "cell_type": "markdown",
   "metadata": {},
   "source": [
    "## 3"
   ]
  },
  {
   "cell_type": "code",
   "execution_count": 13,
   "metadata": {},
   "outputs": [
    {
     "name": "stderr",
     "output_type": "stream",
     "text": [
      "100%|████████████████████████████████████████████████████████████████████████| 153499/153499 [00:19<00:00, 7825.82it/s]\n"
     ]
    },
    {
     "name": "stdout",
     "output_type": "stream",
     "text": [
      "10ка самых популярных слов:  ['в', 'и', 'не', 'на', 'что', 'я', 'с', 'по', 'мне', 'банка']\n"
     ]
    }
   ],
   "source": [
    "words = {}\n",
    "for response in tqdm(responses):\n",
    "    for word in response['text']:\n",
    "        word = word.lower()\n",
    "        if word in words:\n",
    "            words[word] += 1\n",
    "        else:\n",
    "            words[word] = 0\n",
    "\n",
    "words = {k: v for k, v in sorted(words.items(), key=lambda item: item[1], reverse=True)}\n",
    "print('10ка самых популярных слов: ', list(words.keys())[:10])"
   ]
  },
  {
   "cell_type": "code",
   "execution_count": 14,
   "metadata": {},
   "outputs": [
    {
     "name": "stdout",
     "output_type": "stream",
     "text": [
      "10ка самых популярных слов без стоп-слов:  ['банка', 'банк', 'это', 'деньги', 'карту', 'карты', 'кредит', 'день', 'заявление', 'отделение']\n"
     ]
    }
   ],
   "source": [
    "stop_words = set(stopwords.words('russian')) \n",
    "\n",
    "words_nostop = {}\n",
    "for word, count in words.items():\n",
    "    if word not in stop_words:\n",
    "        words_nostop[word] = count\n",
    "        \n",
    "print('10ка самых популярных слов без стоп-слов: ', list(words_nostop.keys())[:10])"
   ]
  },
  {
   "cell_type": "code",
   "execution_count": 15,
   "metadata": {},
   "outputs": [
    {
     "name": "stderr",
     "output_type": "stream",
     "text": [
      "100%|███████████████████████████████████████████████████████████████████████| 153499/153499 [00:04<00:00, 38185.27it/s]\n"
     ]
    }
   ],
   "source": [
    "# очистка стоп слов для дальнейщей работы\n",
    "for response in tqdm(responses):\n",
    "    response['text'] = [word for word in response['text'] if word not in stop_words]"
   ]
  },
  {
   "cell_type": "code",
   "execution_count": 16,
   "metadata": {},
   "outputs": [
    {
     "name": "stderr",
     "output_type": "stream",
     "text": [
      "100%|████████████████████████████████████████████████████████████████████████| 313422/313422 [00:54<00:00, 5778.52it/s]\n"
     ]
    }
   ],
   "source": [
    "words_lemma = {}\n",
    "words_noun = {}\n",
    "\n",
    "for word, count in tqdm(words_nostop.items()):\n",
    "    lemma = morph.parse(word)[0]\n",
    "    if lemma.normal_form in words_lemma:\n",
    "        words_lemma[lemma.normal_form] += count\n",
    "    else:\n",
    "        words_lemma[lemma.normal_form] = count\n",
    "        \n",
    "    if 'NOUN' in lemma.tag:\n",
    "        if lemma.normal_form in words_noun:\n",
    "            words_noun[lemma.normal_form] += count\n",
    "        else:\n",
    "            words_noun[lemma.normal_form] = count\n",
    "\n",
    "words_lemma = {k: v for k, v in sorted(words_lemma.items(), key=lambda item: item[1], reverse=True)}\n",
    "words_noun = {k: v for k, v in sorted(words_noun.items(), key=lambda item: item[1], reverse=True)}"
   ]
  },
  {
   "cell_type": "code",
   "execution_count": 17,
   "metadata": {},
   "outputs": [
    {
     "name": "stdout",
     "output_type": "stream",
     "text": [
      "10ка самых популярных лемм:  ['банка', 'карта', 'банк', 'это', 'деньга', 'день', 'мой', 'кредит', 'который', 'отделение']\n"
     ]
    }
   ],
   "source": [
    "print('10ка самых популярных лемм: ', list(words_lemma.keys())[:10])"
   ]
  },
  {
   "cell_type": "markdown",
   "metadata": {},
   "source": [
    "**Банка - это конечно не емкость для жидкостей.**"
   ]
  },
  {
   "cell_type": "markdown",
   "metadata": {},
   "source": [
    "## 4"
   ]
  },
  {
   "cell_type": "code",
   "execution_count": 18,
   "metadata": {},
   "outputs": [
    {
     "name": "stdout",
     "output_type": "stream",
     "text": [
      "10ка самых популярных существительных:  ['банка', 'карта', 'банк', 'деньга', 'день', 'кредит', 'отделение', 'счёт', 'сотрудник', 'клиент']\n"
     ]
    }
   ],
   "source": [
    "print('10ка самых популярных существительных: ', list(words_noun.keys())[:10])"
   ]
  },
  {
   "cell_type": "markdown",
   "metadata": {},
   "source": [
    "## 5"
   ]
  },
  {
   "cell_type": "code",
   "execution_count": 19,
   "metadata": {},
   "outputs": [
    {
     "data": {
      "text/plain": [
       "[<matplotlib.lines.Line2D at 0x1f20ec939c8>]"
      ]
     },
     "execution_count": 19,
     "metadata": {},
     "output_type": "execute_result"
    },
    {
     "data": {
      "image/png": "[encoded data removed]",
      "text/plain": [
       "<Figure size 432x288 with 1 Axes>"
      ]
     },
     "metadata": {
      "needs_background": "light"
     },
     "output_type": "display_data"
    }
   ],
   "source": [
    "import numpy as np\n",
    "\n",
    "cipfa = [x for x in words_lemma.values()]\n",
    "plt.plot(cipfa)  "
   ]
  },
  {
   "cell_type": "markdown",
   "metadata": {},
   "source": [
    "Похоже на закон Ципфа\n",
    "\n",
    "**Кривая Хипса - это что-то другое? Или тоже самое, инет молчит.**\n",
    "## 6"
   ]
  },
  {
   "cell_type": "code",
   "execution_count": 20,
   "metadata": {},
   "outputs": [
    {
     "name": "stdout",
     "output_type": "stream",
     "text": [
      "Слово \"сотрудник\" встречается чаще чем \"клиент\":  True\n",
      "Слово \"мошенничество\" встречается 3220 раз\n",
      "Слово \"доверие\" встречается 2091 раз\n"
     ]
    }
   ],
   "source": [
    "print('Слово \"сотрудник\" встречается чаще чем \"клиент\": ', words_lemma['сотрудник'] > words_lemma['клиент'])\n",
    "print('Слово \"мошенничество\" встречается {} раз'.format(words_lemma['мошенничество']))\n",
    "print('Слово \"доверие\" встречается {} раз'.format(words_lemma['доверие']))"
   ]
  },
  {
   "cell_type": "markdown",
   "metadata": {},
   "source": [
    "## 7"
   ]
  },
  {
   "cell_type": "code",
   "execution_count": 21,
   "metadata": {},
   "outputs": [],
   "source": [
    "from multiprocessing import Process, Manager, cpu_count, Queue\n",
    "import lemmatize"
   ]
  },
  {
   "cell_type": "code",
   "execution_count": 22,
   "metadata": {},
   "outputs": [
    {
     "name": "stdout",
     "output_type": "stream",
     "text": [
      "Wall time: 0 ns\n"
     ]
    },
    {
     "data": {
      "text/plain": [
       "[None, None, None, None, None, None, None, None]"
      ]
     },
     "execution_count": 22,
     "metadata": {},
     "output_type": "execute_result"
    }
   ],
   "source": [
    "%time\n",
    "manager = Manager()\n",
    "resp = manager.list()\n",
    "#resp = Queue()\n",
    "\n",
    "# сколько элементов на один процесс\n",
    "# responses = responses[:100]\n",
    "cpu = cpu_count()\n",
    "c = int(len(responses)/cpu)\n",
    "\n",
    "threads = []\n",
    "for i in range(cpu_count()):\n",
    "    if i == cpu-1:\n",
    "        threads.append(Process(target=lemmatize.lemmatize, args=(responses[c*i:], resp)))\n",
    "    else:\n",
    "        threads.append(Process(target=lemmatize.lemmatize, args=(responses[c*i:c+c*i], resp)))\n",
    "    threads[-1].start()\n",
    "\n",
    "[thread.join() for thread in threads]"
   ]
  },
  {
   "cell_type": "code",
   "execution_count": 30,
   "metadata": {},
   "outputs": [],
   "source": [
    "f = open('banks.pkl', 'wb')\n",
    "pickle.dump(list(resp), f)\n",
    "f.close()"
   ]
  },
  {
   "cell_type": "code",
   "execution_count": 4,
   "metadata": {},
   "outputs": [],
   "source": [
    "f = open('banks.pkl', 'rb')\n",
    "resp = pickle.load(f)\n",
    "f.close()"
   ]
  },
  {
   "cell_type": "code",
   "execution_count": 5,
   "metadata": {},
   "outputs": [],
   "source": [
    "import pandas as pd\n",
    "\n",
    "def merge(words):\n",
    "    return ' '. join(words)\n",
    "    \n",
    "resp_df = pd.DataFrame(resp)\n",
    "resp_df['text'] = resp_df['text'].apply(merge)"
   ]
  },
  {
   "cell_type": "code",
   "execution_count": 6,
   "metadata": {},
   "outputs": [],
   "source": [
    "from sklearn.feature_extraction.text import TfidfVectorizer\n",
    "tfidf = TfidfVectorizer(analyzer='word', min_df = 100)\n",
    "tfidf_matrix = tfidf.fit_transform(resp_df['text'])"
   ]
  },
  {
   "cell_type": "markdown",
   "metadata": {},
   "source": [
    "## Часть 2. Тематическое моделирование [20/100]\n",
    "\n",
    "1. Постройте несколько тематических моделей коллекции документов с разным числом тем. Приведите примеры понятных (интерпретируемых) тем.\n",
    "2. Найдите темы, в которых упомянуты конкретные банки (Сбербанк, ВТБ, другой банк). Можете ли вы их прокомментировать / объяснить?\n",
    "\n",
    "Эта часть задания может быть сделана с использованием gensim. "
   ]
  },
  {
   "cell_type": "code",
   "execution_count": 7,
   "metadata": {},
   "outputs": [],
   "source": [
    "import scipy.sparse\n",
    "from gensim import matutils, corpora\n",
    "from gensim.models import LdaMulticore\n",
    "\n",
    "# Трансформация матрицы слов в корпус\n",
    "def get_corpus(word_matrix):\n",
    "    # we have to transpose\n",
    "    # convert from df to sparse matrix\n",
    "    sparse_counts = scipy.sparse.csr_matrix(word_matrix.transpose())\n",
    "\n",
    "    # sparse matrix to corpus\n",
    "    return matutils.Sparse2Corpus(sparse_counts)\n",
    "\n",
    "\n",
    "corpus = get_corpus(tfidf_matrix)\n",
    "\n",
    "texts = [x['text'] for x in resp]\n",
    "dictionary = corpora.Dictionary(texts)"
   ]
  },
  {
   "cell_type": "code",
   "execution_count": 8,
   "metadata": {},
   "outputs": [],
   "source": [
    "topics = LdaMulticore(corpus, num_topics=100, id2word=dictionary, workers=8, passes=10, minimum_probability=0.02)"
   ]
  },
  {
   "cell_type": "code",
   "execution_count": 95,
   "metadata": {},
   "outputs": [
    {
     "name": "stdout",
     "output_type": "stream",
     "text": [
      "0.018*\"однажды\" + 0.000*\"трекинг\" + 0.000*\"99\" + 0.000*\"спрашивать\" + 0.000*\"навязывание\" + 0.000*\"обратить\" + 0.000*\"роман\" + 0.000*\"неизменность\" + 0.000*\"наст\" + 0.000*\"вода\"\n",
      "0.023*\"секрет\" + 0.011*\"сосед\" + 0.011*\"принять\" + 0.005*\"учёба\" + 0.000*\"paywave\" + 0.000*\"ошибка\" + 0.000*\"регион\" + 0.000*\"напрягать\" + 0.000*\"татьяна\" + 0.000*\"касательно\"\n",
      "0.029*\"дошлый\" + 0.000*\"передать\" + 0.000*\"ажиотаж\" + 0.000*\"вывод\" + 0.000*\"бывший\" + 0.000*\"роман\" + 0.000*\"исключение\" + 0.000*\"штука\" + 0.000*\"спрашивать\" + 0.000*\"логичный\"\n",
      "0.022*\"держатель\" + 0.015*\"зал\" + 0.015*\"конский\" + 0.013*\"присутствующий\" + 0.009*\"предыстория\" + 0.009*\"асв\" + 0.007*\"играть\" + 0.007*\"недолго\" + 0.001*\"нос\" + 0.000*\"отличать\"\n",
      "0.018*\"сцена\" + 0.014*\"поделить\" + 0.013*\"малое\" + 0.013*\"маяковский\" + 0.013*\"честно\" + 0.013*\"уложиться\" + 0.012*\"менежер\" + 0.012*\"рублёвый\" + 0.012*\"однако\" + 0.011*\"высококвалифицированный\"\n",
      "0.017*\"допускать\" + 0.017*\"заявление\" + 0.015*\"письменно\" + 0.014*\"цель\" + 0.012*\"фирма\" + 0.012*\"опечатование\" + 0.011*\"вчера\" + 0.010*\"хамить\" + 0.010*\"машина\" + 0.009*\"техносёл\"\n",
      "0.019*\"оборот\" + 0.011*\"наказание\" + 0.001*\"постфактум\" + 0.000*\"спрашивать\" + 0.000*\"торговый\" + 0.000*\"обратить\" + 0.000*\"выходной\" + 0.000*\"девиз\" + 0.000*\"сальск\" + 0.000*\"списывать\"\n",
      "0.020*\"камышин\" + 0.006*\"пополнить\" + 0.006*\"частность\" + 0.003*\"высказаться\" + 0.000*\"понимание\" + 0.000*\"обратить\" + 0.000*\"спрашивать\" + 0.000*\"передумать\" + 0.000*\"неизменность\" + 0.000*\"тихо\"\n",
      "0.011*\"принадлежность\" + 0.000*\"отдых\" + 0.000*\"спрашивать\" + 0.000*\"регистрация\" + 0.000*\"получить\" + 0.000*\"сальск\" + 0.000*\"бывший\" + 0.000*\"366\" + 0.000*\"усиленный\" + 0.000*\"сравнивать\"\n",
      "0.019*\"самостоятельно\" + 0.010*\"код\" + 0.009*\"770580\" + 0.000*\"вручить\" + 0.000*\"зачем\" + 0.000*\"спрашивать\" + 0.000*\"пересчитать\" + 0.000*\"рассмотреть\" + 0.000*\"относиться\" + 0.000*\"указываться\"\n",
      "0.006*\"рекордный\" + 0.004*\"остаток\" + 0.000*\"интересовать\" + 0.000*\"доказать\" + 0.000*\"упорядочить\" + 0.000*\"преимущество\" + 0.000*\"техника\" + 0.000*\"спрашивать\" + 0.000*\"страхов\" + 0.000*\"русский\"\n",
      "0.014*\"отдельно\" + 0.008*\"представиться\" + 0.006*\"обратить\" + 0.005*\"будущее\" + 0.005*\"неизменность\" + 0.004*\"роман\" + 0.004*\"выходной\" + 0.004*\"передумать\" + 0.004*\"удосужиться\" + 0.003*\"отправиться\"\n",
      "0.000*\"самоорганизоваться\" + 0.000*\"обратить\" + 0.000*\"спрашивать\" + 0.000*\"хреновый\" + 0.000*\"неизменность\" + 0.000*\"списывать\" + 0.000*\"эпилепсия\" + 0.000*\"бывший\" + 0.000*\"расстаться\" + 0.000*\"стул\"\n",
      "0.020*\"недоработка\" + 0.018*\"заставить\" + 0.018*\"давний\" + 0.014*\"резко\" + 0.014*\"вечером\" + 0.012*\"попадание\" + 0.011*\"поступить\" + 0.010*\"проводить\" + 0.010*\"оказываться\" + 0.008*\"станция\"\n",
      "0.013*\"выйти\" + 0.006*\"тысячная\" + 0.000*\"жирный\" + 0.000*\"кратное\" + 0.000*\"обратить\" + 0.000*\"невыясненный\" + 0.000*\"расстаться\" + 0.000*\"жуков\" + 0.000*\"зимой\" + 0.000*\"уникальный\"\n",
      "0.022*\"застать\" + 0.018*\"динамять\" + 0.018*\"завести\" + 0.003*\"классик\" + 0.001*\"2006\" + 0.000*\"каждый\" + 0.000*\"звонок\" + 0.000*\"она\" + 0.000*\"реакция\" + 0.000*\"гк\"\n",
      "0.021*\"пожаловаться\" + 0.012*\"долларовый\" + 0.001*\"переплачивать\" + 0.000*\"подозрение\" + 0.000*\"обратить\" + 0.000*\"расстаться\" + 0.000*\"передумать\" + 0.000*\"отдельно\" + 0.000*\"удосужиться\" + 0.000*\"регистрация\"\n",
      "0.021*\"прочий\" + 0.019*\"переписывать\" + 0.018*\"доступ\" + 0.015*\"приветливый\" + 0.000*\"лозунг\" + 0.000*\"законный\" + 0.000*\"интересный\" + 0.000*\"детский\" + 0.000*\"89\" + 0.000*\"неименной\"\n",
      "0.012*\"заведомо\" + 0.000*\"зарыться\" + 0.000*\"отдельно\" + 0.000*\"эпилепсия\" + 0.000*\"обратить\" + 0.000*\"указ\" + 0.000*\"пересмотреть\" + 0.000*\"переоформлять\" + 0.000*\"попасться\" + 0.000*\"неизменность\"\n",
      "0.023*\"звонок\" + 0.021*\"дело\" + 0.017*\"2006\" + 0.013*\"грамотность\" + 0.011*\"она\" + 0.010*\"1200\" + 0.010*\"конечно\" + 0.010*\"мимо\" + 0.009*\"идиотизм\" + 0.009*\"подъезд\"\n",
      "0.034*\"посмотреть\" + 0.016*\"бюджетный\" + 0.011*\"моральный\" + 0.010*\"обозначить\" + 0.009*\"1352\" + 0.007*\"вышестоящий\" + 0.006*\"принятие\" + 0.003*\"должностной\" + 0.001*\"шустрый\" + 0.001*\"узкий\"\n",
      "0.000*\"враньё\" + 0.000*\"спрашивать\" + 0.000*\"писать\" + 0.000*\"неизменность\" + 0.000*\"роман\" + 0.000*\"винить\" + 0.000*\"обратить\" + 0.000*\"караться\" + 0.000*\"чтоб\" + 0.000*\"потребоваться\"\n",
      "0.026*\"компьютер\" + 0.022*\"пофига\" + 0.012*\"раскатать\" + 0.000*\"спрашивать\" + 0.000*\"отдельно\" + 0.000*\"обратить\" + 0.000*\"сидоров\" + 0.000*\"роман\" + 0.000*\"неоднократно\" + 0.000*\"девиз\"\n",
      "0.050*\"исправить\" + 0.039*\"без\" + 0.034*\"таковой\" + 0.021*\"выплёвывать\" + 0.018*\"быстро\" + 0.004*\"обязаться\" + 0.001*\"сколько\" + 0.001*\"автовый\" + 0.000*\"рад\" + 0.000*\"звонок\"\n",
      "0.016*\"автовый\" + 0.000*\"ночь\" + 0.000*\"платный\" + 0.000*\"вбежать\" + 0.000*\"спрашивать\" + 0.000*\"обратить\" + 0.000*\"теоретически\" + 0.000*\"рассчитаться\" + 0.000*\"горе\" + 0.000*\"сальск\"\n",
      "0.014*\"вместе\" + 0.012*\"красивый\" + 0.010*\"выдавать\" + 0.008*\"турбулентность\" + 0.005*\"благополучно\" + 0.000*\"пересчитать\" + 0.000*\"избежание\" + 0.000*\"bank\" + 0.000*\"11\" + 0.000*\"спрашивать\"\n",
      "0.028*\"впаривать\" + 0.024*\"frezeer\" + 0.019*\"представитель\" + 0.010*\"75\" + 0.010*\"подпускать\" + 0.008*\"дух\" + 0.005*\"бланк\" + 0.004*\"простить\" + 0.003*\"прямо\" + 0.001*\"яндекс\"\n",
      "0.025*\"символ\" + 0.020*\"конечный\" + 0.018*\"агенство\" + 0.009*\"расшифровка\" + 0.001*\"ипотека\" + 0.000*\"99\" + 0.000*\"неграмотность\" + 0.000*\"около\" + 0.000*\"спрашивать\" + 0.000*\"неизменность\"\n",
      "0.002*\"совершение\" + 0.000*\"про\" + 0.000*\"запланировать\" + 0.000*\"минуточка\" + 0.000*\"особо\" + 0.000*\"обратить\" + 0.000*\"спрашивать\" + 0.000*\"девиз\" + 0.000*\"неизменность\" + 0.000*\"ящик\"\n",
      "0.018*\"выслать\" + 0.000*\"вроде\" + 0.000*\"логичный\" + 0.000*\"роман\" + 0.000*\"спрашивать\" + 0.000*\"выпустить\" + 0.000*\"сальск\" + 0.000*\"расположение\" + 0.000*\"эпилепсия\" + 0.000*\"хреновый\"\n",
      "0.022*\"проспект\" + 0.017*\"заключение\" + 0.013*\"кроха\" + 0.011*\"даваться\" + 0.011*\"распечатка\" + 0.011*\"указание\" + 0.008*\"приём\" + 0.008*\"велосипедный\" + 0.008*\"задолженность\" + 0.008*\"инвестиция\"\n",
      "0.020*\"послужитпредупреждение\" + 0.011*\"соответствие\" + 0.008*\"руководительница\" + 0.001*\"должностной\" + 0.000*\"кома\" + 0.000*\"олесь\" + 0.000*\"передумать\" + 0.000*\"спрашивать\" + 0.000*\"неизменность\" + 0.000*\"хреновый\"\n",
      "0.022*\"основный\" + 0.019*\"отсутствие\" + 0.017*\"каско\" + 0.017*\"параллельно\" + 0.015*\"8ой\" + 0.013*\"краснодар\" + 0.013*\"paywave\" + 0.011*\"зачислиться\" + 0.011*\"vii\" + 0.011*\"подписаться\"\n",
      "0.024*\"ладный\" + 0.018*\"поздравить\" + 0.018*\"ильенко\" + 0.015*\"22ий\" + 0.006*\"улучшиться\" + 0.004*\"идентичный\" + 0.004*\"кабала\" + 0.003*\"пополам\" + 0.001*\"продавать\" + 0.000*\"мимо\"\n",
      "0.033*\"обновляться\" + 0.030*\"усилие\" + 0.027*\"вышесказанный\" + 0.023*\"погрозить\" + 0.022*\"стояние\" + 0.022*\"заколебать\" + 0.019*\"клиентоориентированность\" + 0.014*\"провоцировать\" + 0.013*\"avito\" + 0.012*\"магнитный\"\n",
      "0.006*\"заново\" + 0.000*\"90\" + 0.000*\"страхов\" + 0.000*\"порция\" + 0.000*\"роман\" + 0.000*\"обратить\" + 0.000*\"отдельно\" + 0.000*\"штука\" + 0.000*\"возникновение\" + 0.000*\"эпилепсия\"\n",
      "0.000*\"дело\" + 0.000*\"eur\" + 0.000*\"час\" + 0.000*\"спрашивать\" + 0.000*\"федеральный\" + 0.000*\"обратить\" + 0.000*\"будущее\" + 0.000*\"означать\" + 0.000*\"роман\" + 0.000*\"сравнивать\"\n",
      "0.009*\"намного\" + 0.000*\"нарушение\" + 0.000*\"продемонстрировать\" + 0.000*\"опёрзать\" + 0.000*\"акция\" + 0.000*\"повести\" + 0.000*\"гл\" + 0.000*\"повесть\" + 0.000*\"логичный\" + 0.000*\"страхов\"\n",
      "0.012*\"сеть\" + 0.000*\"должность\" + 0.000*\"запись\" + 0.000*\"спрашивать\" + 0.000*\"роман\" + 0.000*\"бывший\" + 0.000*\"участие\" + 0.000*\"обратить\" + 0.000*\"открыть\" + 0.000*\"выпустить\"\n",
      "0.000*\"спрашивать\" + 0.000*\"ржд\" + 0.000*\"байкальский\" + 0.000*\"роман\" + 0.000*\"регистрация\" + 0.000*\"текст\" + 0.000*\"нанести\" + 0.000*\"сальск\" + 0.000*\"расстаться\" + 0.000*\"взаимовыгодный\"\n",
      "0.000*\"очухаться\" + 0.000*\"заколебать\" + 0.000*\"представиться\" + 0.000*\"обратить\" + 0.000*\"политика\" + 0.000*\"относиться\" + 0.000*\"ход\" + 0.000*\"стопка\" + 0.000*\"передумать\" + 0.000*\"гритер\"\n",
      "0.025*\"про\" + 0.013*\"секунда\" + 0.013*\"убедить\" + 0.011*\"возраст\" + 0.010*\"означать\" + 0.009*\"излагать\" + 0.009*\"заведовать\" + 0.009*\"матросов\" + 0.008*\"предоставить\" + 0.008*\"перечисляться\"\n",
      "0.014*\"спрашивать\" + 0.007*\"страхов\" + 0.007*\"обратить\" + 0.005*\"сравнивать\" + 0.005*\"неизменность\" + 0.005*\"хреновый\" + 0.005*\"роман\" + 0.005*\"сальск\" + 0.005*\"петергофский\" + 0.004*\"регистрация\"\n",
      "0.019*\"услышать\" + 0.013*\"пояс\" + 0.011*\"выразить\" + 0.010*\"поступок\" + 0.008*\"вино\" + 0.001*\"всплывать\" + 0.000*\"отобрать\" + 0.000*\"освобождаться\" + 0.000*\"убедить\" + 0.000*\"позабыть\"\n",
      "0.000*\"содержание\" + 0.000*\"спрашивать\" + 0.000*\"страхов\" + 0.000*\"обратить\" + 0.000*\"девиз\" + 0.000*\"роман\" + 0.000*\"связать\" + 0.000*\"досрочно\" + 0.000*\"стул\" + 0.000*\"петергофский\"\n",
      "0.013*\"логичный\" + 0.008*\"коридор\" + 0.008*\"обратить\" + 0.007*\"караться\" + 0.006*\"эпилепсия\" + 0.006*\"сальск\" + 0.005*\"штука\" + 0.005*\"официально\" + 0.005*\"online\" + 0.005*\"ps\"\n"
     ]
    },
    {
     "name": "stdout",
     "output_type": "stream",
     "text": [
      "0.028*\"снова\" + 0.019*\"расписаться\" + 0.015*\"сроккредит\" + 0.009*\"подтверждение\" + 0.007*\"вправе\" + 0.007*\"лелеять\" + 0.003*\"ясность\" + 0.002*\"забеспокоиться\" + 0.001*\"0230\" + 0.000*\"быть\"\n",
      "0.020*\"перейти\" + 0.014*\"надёжный\" + 0.000*\"на\" + 0.000*\"сознательно\" + 0.000*\"платный\" + 0.000*\"дело\" + 0.000*\"талон\" + 0.000*\"специальность\" + 0.000*\"передумать\" + 0.000*\"петергофский\"\n",
      "0.000*\"вообщий\" + 0.000*\"отдельно\" + 0.000*\"сальск\" + 0.000*\"оскорблять\" + 0.000*\"обратить\" + 0.000*\"спрашивать\" + 0.000*\"роман\" + 0.000*\"имущество\" + 0.000*\"критерий\" + 0.000*\"относиться\"\n",
      "0.029*\"отстоять\" + 0.010*\"короче\" + 0.000*\"намерение\" + 0.000*\"включиться\" + 0.000*\"администрация\" + 0.000*\"поток\" + 0.000*\"обратить\" + 0.000*\"1890\" + 0.000*\"40713718\" + 0.000*\"расстаться\"\n",
      "0.037*\"предъявить\" + 0.023*\"признаться\" + 0.011*\"парочка\" + 0.004*\"учесть\" + 0.002*\"банковский\" + 0.002*\"яндекс\" + 0.002*\"жалоба\" + 0.001*\"стартовый\" + 0.000*\"машина\" + 0.000*\"скидка\"\n",
      "0.000*\"недоработка\" + 0.000*\"намерение\" + 0.000*\"сальск\" + 0.000*\"обратить\" + 0.000*\"спрашивать\" + 0.000*\"роман\" + 0.000*\"улучшить\" + 0.000*\"относиться\" + 0.000*\"эпилепсия\" + 0.000*\"суббота\"\n",
      "0.014*\"собственник\" + 0.003*\"счесть\" + 0.000*\"открывать\" + 0.000*\"уведомлять\" + 0.000*\"записываться\" + 0.000*\"отдельно\" + 0.000*\"заканчивать\" + 0.000*\"спрашивать\" + 0.000*\"павелецкий\" + 0.000*\"регистрация\"\n",
      "0.029*\"впихивать\" + 0.024*\"недоверчивость\" + 0.017*\"маркета\" + 0.016*\"программный\" + 0.012*\"кануть\" + 0.006*\"ie\" + 0.004*\"иметься\" + 0.003*\"геннина\" + 0.002*\"др\" + 0.001*\"убедить\"\n",
      "0.000*\"достаточно\" + 0.000*\"хоть\" + 0.000*\"узнаться\" + 0.000*\"аффилировать\" + 0.000*\"admincomment\" + 0.000*\"спрашивать\" + 0.000*\"страхов\" + 0.000*\"обратить\" + 0.000*\"необходимый\" + 0.000*\"многое\"\n",
      "0.008*\"девиз\" + 0.008*\"отдельно\" + 0.007*\"1890\" + 0.007*\"бывший\" + 0.007*\"передумать\" + 0.007*\"обратить\" + 0.007*\"отзыв\" + 0.006*\"беззаботный\" + 0.006*\"страхов\" + 0.005*\"дежурный\"\n",
      "0.021*\"вычесть\" + 0.019*\"доверие\" + 0.016*\"выгодно\" + 0.013*\"мирный\" + 0.004*\"заранее\" + 0.004*\"начинать\" + 0.002*\"воз\" + 0.002*\"угроза\" + 0.000*\"вручить\" + 0.000*\"паспортный\"\n",
      "0.020*\"сейчас\" + 0.019*\"следить\" + 0.014*\"дед\" + 0.012*\"внешний\" + 0.010*\"нг\" + 0.008*\"просроченнойзадолженность\" + 0.002*\"разобраться\" + 0.002*\"действовать\" + 0.001*\"чёткость\" + 0.001*\"автодозвон\"\n",
      "0.020*\"точность\" + 0.019*\"постоянно\" + 0.000*\"8ой\" + 0.000*\"привелигировать\" + 0.000*\"любой\" + 0.000*\"ощущаться\" + 0.000*\"7ми\" + 0.000*\"спрашивать\" + 0.000*\"неизменность\" + 0.000*\"обратить\"\n",
      "0.015*\"бородка\" + 0.013*\"подарить\" + 0.010*\"ммс\" + 0.009*\"спокойный\" + 0.002*\"заказ\" + 0.000*\"уровень\" + 0.000*\"минимизация\" + 0.000*\"гонять\" + 0.000*\"тадааам\" + 0.000*\"4\"\n",
      "0.040*\"edition\" + 0.034*\"заканчивать\" + 0.025*\"любитель\" + 0.006*\"приходить\" + 0.001*\"отличать\" + 0.000*\"оборот\" + 0.000*\"повиснуть\" + 0.000*\"горе\" + 0.000*\"позабыть\" + 0.000*\"логичный\"\n",
      "0.000*\"юлий\" + 0.000*\"знающий\" + 0.000*\"спустя\" + 0.000*\"1890\" + 0.000*\"обратить\" + 0.000*\"неизменность\" + 0.000*\"отзыв\" + 0.000*\"сравнивать\" + 0.000*\"известно\" + 0.000*\"отдельно\"\n",
      "0.022*\"эх\" + 0.015*\"следующий\" + 0.008*\"неведение\" + 0.007*\"перепалка\" + 0.007*\"петровский\" + 0.006*\"надёжность\" + 0.003*\"неприятность\" + 0.002*\"осуществлять\" + 0.001*\"мало\" + 0.001*\"любой\"\n",
      "0.017*\"чек\" + 0.015*\"выбор\" + 0.009*\"очевидно\" + 0.009*\"лежать\" + 0.007*\"выйти\" + 0.006*\"грусть\" + 0.005*\"четыре\" + 0.001*\"объесть\" + 0.000*\"минимальный\" + 0.000*\"961146\"\n",
      "0.013*\"звонить\" + 0.008*\"обязательство\" + 0.006*\"милый\" + 0.000*\"обменивать\" + 0.000*\"мошенничество\" + 0.000*\"замяться\" + 0.000*\"спрашивать\" + 0.000*\"тимирязевский\" + 0.000*\"обратить\" + 0.000*\"отдельно\"\n",
      "0.003*\"договорённость\" + 0.000*\"суматоха\" + 0.000*\"шаг\" + 0.000*\"каждодневный\" + 0.000*\"спрашивать\" + 0.000*\"отмахнуться\" + 0.000*\"обратить\" + 0.000*\"относиться\" + 0.000*\"биржа\" + 0.000*\"роман\"\n",
      "0.000*\"потерять\" + 0.000*\"лоб\" + 0.000*\"девиз\" + 0.000*\"спрашивать\" + 0.000*\"обратить\" + 0.000*\"расстаться\" + 0.000*\"1890\" + 0.000*\"бывший\" + 0.000*\"штука\" + 0.000*\"сечь\"\n",
      "0.024*\"ещё\" + 0.015*\"неожиданный\" + 0.000*\"поискать\" + 0.000*\"154\" + 0.000*\"лютый\" + 0.000*\"россия\" + 0.000*\"спрашивать\" + 0.000*\"усиленный\" + 0.000*\"хреновый\" + 0.000*\"статус\"\n",
      "0.017*\"слушать\" + 0.000*\"зачислиться\" + 0.000*\"управление\" + 0.000*\"одобрение\" + 0.000*\"отдельно\" + 0.000*\"обратить\" + 0.000*\"передумать\" + 0.000*\"роман\" + 0.000*\"неизменность\" + 0.000*\"отправиться\"\n",
      "0.006*\"распространяться\" + 0.000*\"касса\" + 0.000*\"спрашивать\" + 0.000*\"продажа\" + 0.000*\"сальск\" + 0.000*\"выход\" + 0.000*\"роман\" + 0.000*\"обратить\" + 0.000*\"бывший\" + 0.000*\"отзыв\"\n",
      "0.000*\"хреновый\" + 0.000*\"отдельно\" + 0.000*\"спрашивать\" + 0.000*\"сдавать\" + 0.000*\"роман\" + 0.000*\"сугубо\" + 0.000*\"штука\" + 0.000*\"скандалить\" + 0.000*\"ещё\" + 0.000*\"критерий\"\n",
      "0.014*\"автодозвон\" + 0.011*\"высвечиваться\" + 0.010*\"сберегательный\" + 0.009*\"расстояние\" + 0.008*\"метод\" + 0.008*\"срок\" + 0.008*\"нарушение\" + 0.008*\"кц\" + 0.008*\"доказать\" + 0.008*\"разместить\"\n",
      "0.026*\"химический\" + 0.019*\"balans\" + 0.012*\"банка\" + 0.002*\"некачественный\" + 0.000*\"зарплатный\" + 0.000*\"хранилище\" + 0.000*\"отдельно\" + 0.000*\"спрашивать\" + 0.000*\"обратить\" + 0.000*\"гарантия\"\n",
      "0.023*\"чип\" + 0.023*\"алексей\" + 0.021*\"досадный\" + 0.013*\"заученно\" + 0.013*\"уменьшить\" + 0.011*\"л010\" + 0.011*\"избегать\" + 0.007*\"причина\" + 0.005*\"edition\" + 0.005*\"пугаться\"\n",
      "0.041*\"довольно\" + 0.021*\"отлежать\" + 0.020*\"bank\" + 0.019*\"граница\" + 0.017*\"подготовить\" + 0.015*\"чтобы\" + 0.011*\"вытащить\" + 0.010*\"социальный\" + 0.008*\"стоянка\" + 0.008*\"безапелляционный\"\n",
      "0.019*\"массовый\" + 0.013*\"совершить\" + 0.005*\"неплательщик\" + 0.000*\"довольно\" + 0.000*\"остановить\" + 0.000*\"отдельно\" + 0.000*\"передумать\" + 0.000*\"бывший\" + 0.000*\"сравнивать\" + 0.000*\"спрашивать\"\n",
      "0.000*\"спрашивать\" + 0.000*\"black\" + 0.000*\"неизменность\" + 0.000*\"расстаться\" + 0.000*\"накануне\" + 0.000*\"страхов\" + 0.000*\"хреновый\" + 0.000*\"поехать\" + 0.000*\"обратить\" + 0.000*\"михаил\"\n",
      "0.041*\"читать\" + 0.029*\"отсчитывать\" + 0.021*\"on\" + 0.012*\"пользовательский\" + 0.011*\"киевский\" + 0.010*\"недоброжелательный\" + 0.005*\"русло\" + 0.000*\"италия\" + 0.000*\"2006\" + 0.000*\"настоящий\"\n",
      "0.043*\"дополнительный\" + 0.038*\"заключать\" + 0.031*\"перезаключение\" + 0.018*\"2040\" + 0.014*\"предъявить\" + 0.011*\"согласовать\" + 0.011*\"дорога\" + 0.008*\"тупить\" + 0.008*\"просить\" + 0.004*\"просматриваться\"\n",
      "0.015*\"свеженький\" + 0.015*\"безумно\" + 0.014*\"124\" + 0.000*\"julkurgan\" + 0.000*\"исчезать\" + 0.000*\"обратить\" + 0.000*\"следственный\" + 0.000*\"международный\" + 0.000*\"бывший\" + 0.000*\"регистрация\"\n",
      "0.041*\"брокерский\" + 0.015*\"определиться\" + 0.014*\"позаполнять\" + 0.013*\"каждый\" + 0.011*\"мошенник\" + 0.011*\"поискать\" + 0.010*\"загнать\" + 0.010*\"яд\" + 0.010*\"профессионально\" + 0.009*\"широкий\"\n",
      "0.020*\"учредитель\" + 0.014*\"лозунг\" + 0.012*\"брокерский\" + 0.011*\"основание\" + 0.011*\"интерактивный\" + 0.010*\"кома\" + 0.010*\"регион\" + 0.010*\"ошибка\" + 0.010*\"олесь\" + 0.008*\"дозвониться\"\n",
      "0.031*\"изменить\" + 0.024*\"плакат\" + 0.019*\"взять\" + 0.010*\"734\" + 0.008*\"рассмотрение\" + 0.006*\"обидный\" + 0.006*\"графика\" + 0.004*\"видеть\" + 0.000*\"прибыль\" + 0.000*\"подсказать\"\n",
      "0.024*\"заменить\" + 0.021*\"воз\" + 0.020*\"успокоительный\" + 0.019*\"поработать\" + 0.013*\"ресурс\" + 0.013*\"2000\" + 0.012*\"обескураживать\" + 0.011*\"звать\" + 0.010*\"письмо\" + 0.010*\"мудрец\"\n",
      "0.034*\"исчерпывающий\" + 0.013*\"выжимка\" + 0.011*\"одномоментный\" + 0.011*\"напор\" + 0.010*\"альф\" + 0.009*\"операционистка\" + 0.009*\"минимум\" + 0.009*\"повторять\" + 0.009*\"донесение\" + 0.008*\"труд\"\n",
      "0.015*\"издевательство\" + 0.002*\"ионизатор\" + 0.000*\"спрашивать\" + 0.000*\"неизменность\" + 0.000*\"гонять\" + 0.000*\"меланич\" + 0.000*\"эпилепсия\" + 0.000*\"обратить\" + 0.000*\"роман\" + 0.000*\"метод\"\n",
      "0.000*\"мужчина\" + 0.000*\"спрашивать\" + 0.000*\"отдельно\" + 0.000*\"роман\" + 0.000*\"критерий\" + 0.000*\"петергофский\" + 0.000*\"обратить\" + 0.000*\"сальск\" + 0.000*\"доплатить\" + 0.000*\"коридор\"\n",
      "0.017*\"райфазен\" + 0.016*\"навстеча\" + 0.012*\"сменить\" + 0.001*\"руководительница\" + 0.000*\"коллективный\" + 0.000*\"спрашивать\" + 0.000*\"обратить\" + 0.000*\"неизменность\" + 0.000*\"приезжать\" + 0.000*\"сальск\"\n",
      "0.010*\"ладненький\" + 0.000*\"спрашивать\" + 0.000*\"хреновый\" + 0.000*\"прощение\" + 0.000*\"задача\" + 0.000*\"неизменность\" + 0.000*\"сальск\" + 0.000*\"роман\" + 0.000*\"помимо\" + 0.000*\"вышеуказанный\"\n",
      "0.031*\"выдать\" + 0.019*\"понятно\" + 0.008*\"проследовать\" + 0.004*\"расположить\" + 0.000*\"спрашивать\" + 0.000*\"роман\" + 0.000*\"начать\" + 0.000*\"консилиум\" + 0.000*\"обвинять\" + 0.000*\"обратить\"\n",
      "0.029*\"admincomment\" + 0.017*\"лоб\" + 0.017*\"дебетовка\" + 0.014*\"гк\" + 0.012*\"кирпич\" + 0.010*\"присутствовать\" + 0.009*\"менее\" + 0.009*\"телодвижение\" + 0.008*\"напугать\" + 0.006*\"джавид\"\n",
      "0.031*\"случиться\" + 0.014*\"наверное\" + 0.014*\"стать\" + 0.012*\"приемлемый\" + 0.011*\"зарезервировать\" + 0.008*\"экономический\" + 0.008*\"499\" + 0.007*\"сюда\" + 0.006*\"окно\" + 0.006*\"нерешаемый\"\n"
     ]
    },
    {
     "name": "stdout",
     "output_type": "stream",
     "text": [
      "0.000*\"социальный\" + 0.000*\"крестик\" + 0.000*\"роман\" + 0.000*\"обратить\" + 0.000*\"логичный\" + 0.000*\"эл\" + 0.000*\"напрягаться\" + 0.000*\"петергофский\" + 0.000*\"регистрация\" + 0.000*\"скандалить\"\n",
      "0.017*\"подозрительный\" + 0.006*\"балет\" + 0.005*\"стоп\" + 0.000*\"спрашивать\" + 0.000*\"роман\" + 0.000*\"страхов\" + 0.000*\"расстаться\" + 0.000*\"регистрация\" + 0.000*\"обратить\" + 0.000*\"корп\"\n",
      "0.000*\"худой\" + 0.000*\"кажется\" + 0.000*\"пропустить\" + 0.000*\"жутко\" + 0.000*\"обратить\" + 0.000*\"спрашивать\" + 0.000*\"роман\" + 0.000*\"организовывать\" + 0.000*\"отдельно\" + 0.000*\"эпилепсия\"\n",
      "0.001*\"газета\" + 0.000*\"спрашивать\" + 0.000*\"сальск\" + 0.000*\"бывший\" + 0.000*\"1890\" + 0.000*\"неизменность\" + 0.000*\"участие\" + 0.000*\"усиленный\" + 0.000*\"выходной\" + 0.000*\"роман\"\n",
      "0.018*\"отсюда\" + 0.000*\"грамотный\" + 0.000*\"спрашивать\" + 0.000*\"обратить\" + 0.000*\"организовывать\" + 0.000*\"выбесить\" + 0.000*\"отдельно\" + 0.000*\"отослать\" + 0.000*\"скандалить\" + 0.000*\"страхов\"\n",
      "0.020*\"большинство\" + 0.017*\"файл\" + 0.015*\"таиланд\" + 0.015*\"заявка\" + 0.010*\"савушкина\" + 0.008*\"кредитовать\" + 0.007*\"найти\" + 0.006*\"стартовый\" + 0.006*\"обещание\" + 0.006*\"невыполнение\"\n",
      "0.000*\"спрашивать\" + 0.000*\"застраховать\" + 0.000*\"передумать\" + 0.000*\"всюду\" + 0.000*\"роман\" + 0.000*\"улица\" + 0.000*\"1890\" + 0.000*\"обратить\" + 0.000*\"отослать\" + 0.000*\"услуга\"\n",
      "0.006*\"спрашивать\" + 0.005*\"окончание\" + 0.003*\"относиться\" + 0.003*\"исполнить\" + 0.003*\"кредит\" + 0.003*\"сдержать\" + 0.003*\"готовить\" + 0.003*\"окрашивание\" + 0.003*\"обратить\" + 0.003*\"остановить\"\n"
     ]
    }
   ],
   "source": [
    "for i in range(topics.num_topics):\n",
    "    print(topics.print_topic(i))"
   ]
  },
  {
   "cell_type": "markdown",
   "metadata": {},
   "source": [
    "Что-то не пошло у меня с темами. Не могу найти что-то вменяемое. Темы с конкретным названием банка тоже не попадались (возможно потому что слово должно минимум 100 раз встречаться, чтобы попасть в tfifd матрицу)"
   ]
  },
  {
   "cell_type": "markdown",
   "metadata": {},
   "source": [
    "## Часть 3. Классификация текстов [40/100]\n",
    "\n",
    "Сформулируем для простоты задачу бинарной классификации: будем классифицировать на два класса, то есть, различать резко отрицательные отзывы (с оценкой 1) и положительные отзывы (с оценкой 5). \n",
    "\n",
    "1.  Составьте обучающее и тестовое множество: выберите из всего набора данных N1 отзывов с оценкой 1 и N2 отзывов с оценкой 5 (значение N1 и N2 – на ваше усмотрение). Используйте ```sklearn.model_selection.train_test_split``` для разделения множества отобранных документов на обучающее и тестовое. \n",
    "2. Используйте любой известный вам алгоритм классификации текстов для решения задачи и получите baseline. Сравните разные варианты векторизации текста: использование только униграм, пар или троек слов или с использованием символьных $n$-грам. \n",
    "3. Сравните, как изменяется качество решения задачи при использовании скрытых тем в качестве признаков:\n",
    "* 1-ый вариант: $tf-idf$ преобразование (```sklearn.feature_extraction.text.TfidfTransformer```) и сингулярное разложение (оно же – латентый семантический анализ) (```sklearn.decomposition.TruncatedSVD```), \n",
    "* 2-ой вариант: тематические модели LDA (```sklearn.decomposition.LatentDirichletAllocation```). \n",
    "\n",
    "Используйте accuracy и F-measure для оценки качества классификации. \n",
    "\n",
    "Ниже написан примерный Pipeline для классификации текстов. \n",
    "\n",
    "Эта часть задания может быть сделана с использованием sklearn. "
   ]
  },
  {
   "cell_type": "code",
   "execution_count": 17,
   "metadata": {},
   "outputs": [],
   "source": [
    "from sklearn.pipeline import Pipeline\n",
    "from sklearn.ensemble import RandomForestClassifier\n",
    "from sklearn.model_selection import train_test_split\n",
    "from sklearn.feature_extraction.text import CountVectorizer, TfidfTransformer\n",
    "from sklearn.decomposition import TruncatedSVD\n",
    "from sklearn.metrics import accuracy_score, f1_score"
   ]
  },
  {
   "cell_type": "code",
   "execution_count": 49,
   "metadata": {},
   "outputs": [
    {
     "name": "stderr",
     "output_type": "stream",
     "text": [
      "D:\\Python\\lib\\site-packages\\sklearn\\ensemble\\forest.py:245: FutureWarning: The default value of n_estimators will change from 10 in version 0.20 to 100 in 0.22.\n",
      "  \"10 in version 0.20 to 100 in 0.22.\", FutureWarning)\n"
     ]
    },
    {
     "data": {
      "text/plain": [
       "Pipeline(memory=None,\n",
       "         steps=[('vect',\n",
       "                 CountVectorizer(analyzer='word', binary=False,\n",
       "                                 decode_error='strict',\n",
       "                                 dtype=<class 'numpy.int64'>, encoding='utf-8',\n",
       "                                 input='content', lowercase=True, max_df=1.0,\n",
       "                                 max_features=None, min_df=1,\n",
       "                                 ngram_range=(1, 1), preprocessor=None,\n",
       "                                 stop_words=None, strip_accents=None,\n",
       "                                 token_pattern='(?u)\\\\b\\\\w\\\\w+\\\\b',\n",
       "                                 tokenizer=None, vocabulary=Non...\n",
       "                 RandomForestClassifier(bootstrap=True, class_weight=None,\n",
       "                                        criterion='gini', max_depth=20,\n",
       "                                        max_features='auto',\n",
       "                                        max_leaf_nodes=None,\n",
       "                                        min_impurity_decrease=0.0,\n",
       "                                        min_impurity_split=None,\n",
       "                                        min_samples_leaf=1, min_samples_split=2,\n",
       "                                        min_weight_fraction_leaf=0.0,\n",
       "                                        n_estimators=10, n_jobs=None,\n",
       "                                        oob_score=False, random_state=None,\n",
       "                                        verbose=0, warm_start=False))],\n",
       "         verbose=False)"
      ]
     },
     "execution_count": 49,
     "metadata": {},
     "output_type": "execute_result"
    }
   ],
   "source": [
    "X = resp_df['text']\n",
    "y = resp_df['rating']\n",
    "\n",
    "X_train, X_test, y_train, y_test = train_test_split(X, y, test_size=0.2)\n",
    "    \n",
    "# !!! На каждом этапе Pipeline нужно указать свои параметры\n",
    "# 1-ый вариант: tf-idf + LSI\n",
    "# 2-ой вариант: LDA\n",
    "\n",
    "clf = Pipeline([ \n",
    "    ('vect', CountVectorizer()), \n",
    "    ('tfidf', TfidfTransformer()), \n",
    "    ('tm', TruncatedSVD(n_components=20)), \n",
    "    ('clf', RandomForestClassifier(max_depth=20))\n",
    "])\n",
    "\n",
    "clf.fit(X_train, y_train)"
   ]
  },
  {
   "cell_type": "code",
   "execution_count": 59,
   "metadata": {},
   "outputs": [
    {
     "name": "stdout",
     "output_type": "stream",
     "text": [
      "Accuracy:  0.9022544283413849\n",
      "F1:  0.7602685624012638\n"
     ]
    }
   ],
   "source": [
    "y_pred = clf.predict(X_test)\n",
    "print('Accuracy: ', accuracy_score(y_test, y_pred))\n",
    "print('F1: ', f1_score(y_test, y_pred))"
   ]
  },
  {
   "cell_type": "markdown",
   "metadata": {},
   "source": [
    "## биграммы"
   ]
  },
  {
   "cell_type": "code",
   "execution_count": 65,
   "metadata": {},
   "outputs": [
    {
     "name": "stderr",
     "output_type": "stream",
     "text": [
      "D:\\Python\\lib\\site-packages\\sklearn\\ensemble\\forest.py:245: FutureWarning: The default value of n_estimators will change from 10 in version 0.20 to 100 in 0.22.\n",
      "  \"10 in version 0.20 to 100 in 0.22.\", FutureWarning)\n"
     ]
    },
    {
     "data": {
      "text/plain": [
       "Pipeline(memory=None,\n",
       "         steps=[('vect',\n",
       "                 CountVectorizer(analyzer='word', binary=False,\n",
       "                                 decode_error='strict',\n",
       "                                 dtype=<class 'numpy.int64'>, encoding='utf-8',\n",
       "                                 input='content', lowercase=True, max_df=1.0,\n",
       "                                 max_features=None, min_df=1,\n",
       "                                 ngram_range=(2, 2), preprocessor=None,\n",
       "                                 stop_words=None, strip_accents=None,\n",
       "                                 token_pattern='(?u)\\\\b\\\\w\\\\w+\\\\b',\n",
       "                                 tokenizer=None, vocabulary=Non...\n",
       "                 RandomForestClassifier(bootstrap=True, class_weight=None,\n",
       "                                        criterion='gini', max_depth=20,\n",
       "                                        max_features='auto',\n",
       "                                        max_leaf_nodes=None,\n",
       "                                        min_impurity_decrease=0.0,\n",
       "                                        min_impurity_split=None,\n",
       "                                        min_samples_leaf=1, min_samples_split=2,\n",
       "                                        min_weight_fraction_leaf=0.0,\n",
       "                                        n_estimators=10, n_jobs=None,\n",
       "                                        oob_score=False, random_state=None,\n",
       "                                        verbose=0, warm_start=False))],\n",
       "         verbose=False)"
      ]
     },
     "execution_count": 65,
     "metadata": {},
     "output_type": "execute_result"
    }
   ],
   "source": [
    "clf = Pipeline([ \n",
    "    ('vect', CountVectorizer(ngram_range=(2,2))), \n",
    "    ('tfidf', TfidfTransformer()), \n",
    "    ('tm', TruncatedSVD(n_components=20)), \n",
    "    ('clf', RandomForestClassifier(max_depth=20))\n",
    "])\n",
    "\n",
    "clf.fit(X_train, y_train)\n",
    "\n",
    "y_pred = clf.predict(X_test)\n",
    "print('Accuracy: ', accuracy_score(y_test, y_pred))\n",
    "print('F1: ', f1_score(y_test, y_pred))"
   ]
  },
  {
   "cell_type": "markdown",
   "metadata": {},
   "source": [
    "## Триграммы"
   ]
  },
  {
   "cell_type": "code",
   "execution_count": 98,
   "metadata": {},
   "outputs": [
    {
     "name": "stderr",
     "output_type": "stream",
     "text": [
      "D:\\Python\\lib\\site-packages\\sklearn\\ensemble\\forest.py:245: FutureWarning: The default value of n_estimators will change from 10 in version 0.20 to 100 in 0.22.\n",
      "  \"10 in version 0.20 to 100 in 0.22.\", FutureWarning)\n"
     ]
    },
    {
     "name": "stdout",
     "output_type": "stream",
     "text": [
      "Accuracy:  0.8249597423510467\n",
      "F1:  0.5440436241610738\n"
     ]
    }
   ],
   "source": [
    "clf = Pipeline([ \n",
    "    ('vect', CountVectorizer(ngram_range=(3,3))), \n",
    "    ('tfidf', TfidfTransformer()), \n",
    "    ('tm', TruncatedSVD(n_components=20)), \n",
    "    ('clf', RandomForestClassifier(max_depth=20))\n",
    "])\n",
    "\n",
    "clf.fit(X_train, y_train)\n",
    "\n",
    "y_pred = clf.predict(X_test)\n",
    "print('Accuracy: ', accuracy_score(y_test, y_pred))\n",
    "print('F1: ', f1_score(y_test, y_pred))"
   ]
  },
  {
   "cell_type": "markdown",
   "metadata": {},
   "source": [
    "**Униграммы лучше всех**\n",
    "\n",
    "Имхо, N-граммы делать в тупую (давайте объединим все слова со всеми) нельзя. "
   ]
  },
  {
   "cell_type": "markdown",
   "metadata": {},
   "source": [
    "# Символы"
   ]
  },
  {
   "cell_type": "code",
   "execution_count": 100,
   "metadata": {},
   "outputs": [
    {
     "name": "stderr",
     "output_type": "stream",
     "text": [
      "D:\\Python\\lib\\site-packages\\sklearn\\ensemble\\forest.py:245: FutureWarning: The default value of n_estimators will change from 10 in version 0.20 to 100 in 0.22.\n",
      "  \"10 in version 0.20 to 100 in 0.22.\", FutureWarning)\n"
     ]
    },
    {
     "name": "stdout",
     "output_type": "stream",
     "text": [
      "Accuracy:  0.8991143317230273\n",
      "F1:  0.7540726202158979\n"
     ]
    }
   ],
   "source": [
    "clf = Pipeline([ \n",
    "    ('vect', CountVectorizer(analyzer = 'char', ngram_range=(4,6))), \n",
    "    ('tfidf', TfidfTransformer()), \n",
    "    ('tm', TruncatedSVD(n_components=20)), \n",
    "    ('clf', RandomForestClassifier(max_depth=20))\n",
    "])\n",
    "\n",
    "clf.fit(X_train, y_train)\n",
    "\n",
    "y_pred = clf.predict(X_test)\n",
    "print('Accuracy: ', accuracy_score(y_test, y_pred))\n",
    "print('F1: ', f1_score(y_test, y_pred))"
   ]
  },
  {
   "cell_type": "markdown",
   "metadata": {},
   "source": [
    "# LDA"
   ]
  },
  {
   "cell_type": "code",
   "execution_count": 12,
   "metadata": {},
   "outputs": [
    {
     "name": "stdout",
     "output_type": "stream",
     "text": [
      "Обработка 62099 ряда из 62100\n"
     ]
    }
   ],
   "source": [
    "from IPython.display import clear_output\n",
    "total_rows = len(resp_df['text'])\n",
    "cur_row = 0\n",
    "\n",
    "def get_topic(q):\n",
    "    global cur_row\n",
    "    global total_rows\n",
    "    \n",
    "    print('Обработка {} ряда из {}'.format(cur_row, total_rows))\n",
    "    xreturn = dict() \n",
    "    query = nltk.word_tokenize(q)\n",
    "\n",
    "    for word in query:\n",
    "        if word not in dictionary.values():\n",
    "            # remove unknown word or it will broke LDA\n",
    "            query.remove(word)\n",
    "    \n",
    "    bow = dictionary.doc2bow(query)\n",
    "    tpcs = topics.get_document_topics(bow)\n",
    "\n",
    "    for topic in range(topics.num_topics):\n",
    "        # check if have probability for this topic\n",
    "        has_proba = False\n",
    "        for t in tpcs:\n",
    "            if t[0] == topic:\n",
    "                xreturn[f'topic_{topic}'] = t[1]\n",
    "                has_proba = True\n",
    "                break\n",
    "        # if no - set 0\n",
    "        if not has_proba:\n",
    "            xreturn[f'topic_{topic}'] = 0\n",
    "    cur_row += 1\n",
    "    clear_output(True)\n",
    "    return pd.Series(xreturn)\n",
    "\n",
    "X_topic = resp_df['text'].apply(get_topic)"
   ]
  },
  {
   "cell_type": "code",
   "execution_count": 15,
   "metadata": {},
   "outputs": [],
   "source": [
    "X_topic.to_csv('topics.csv')"
   ]
  },
  {
   "cell_type": "code",
   "execution_count": 20,
   "metadata": {},
   "outputs": [
    {
     "name": "stderr",
     "output_type": "stream",
     "text": [
      "D:\\Python\\lib\\site-packages\\sklearn\\ensemble\\forest.py:245: FutureWarning: The default value of n_estimators will change from 10 in version 0.20 to 100 in 0.22.\n",
      "  \"10 in version 0.20 to 100 in 0.22.\", FutureWarning)\n"
     ]
    },
    {
     "name": "stdout",
     "output_type": "stream",
     "text": [
      "Accuracy:  0.7954911433172303\n",
      "F1:  0.33438155136268344\n"
     ]
    }
   ],
   "source": [
    "X_train, X_test, y_train, y_test = train_test_split(X_topic, resp_df['rating'], test_size=0.2)\n",
    "\n",
    "model = RandomForestClassifier(max_depth=20)\n",
    "model.fit(X_train, y_train)\n",
    "\n",
    "y_pred = model.predict(X_test)\n",
    "print('Accuracy: ', accuracy_score(y_test, y_pred))\n",
    "print('F1: ', f1_score(y_test, y_pred))"
   ]
  },
  {
   "cell_type": "markdown",
   "metadata": {},
   "source": [
    "Круче униграмм не отработало (что вообщем-то странно)"
   ]
  }
 ],
 "metadata": {
  "kernelspec": {
   "display_name": "Python 3",
   "language": "python",
   "name": "python3"
  },
  "language_info": {
   "codemirror_mode": {
    "name": "ipython",
    "version": 3
   },
   "file_extension": ".py",
   "mimetype": "text/x-python",
   "name": "python",
   "nbconvert_exporter": "python",
   "pygments_lexer": "ipython3",
   "version": "3.7.4"
  }
 },
 "nbformat": 4,
 "nbformat_minor": 2
}
